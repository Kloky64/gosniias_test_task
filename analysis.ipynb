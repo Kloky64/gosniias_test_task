{
 "cells": [
  {
   "cell_type": "code",
   "execution_count": 41,
   "metadata": {},
   "outputs": [],
   "source": [
    "import pandas as pd\n",
    "import math"
   ]
  },
  {
   "cell_type": "code",
   "execution_count": 42,
   "metadata": {},
   "outputs": [],
   "source": [
    "csv = \"data/new_data.csv\"\n",
    "df = pd.read_csv(csv)\n",
    "df = df.drop_duplicates()\n"
   ]
  },
  {
   "cell_type": "code",
   "execution_count": 43,
   "metadata": {},
   "outputs": [],
   "source": [
    "# Функция для вычисления расстояния между координатами\n",
    "def get_distance(lat1, long1, lat2, long2):\n",
    "    R = 6373\n",
    "    lat1 = math.radians(lat1)\n",
    "    long1 = math.radians(long1)\n",
    "    lat2 = math.radians(lat2)\n",
    "    long2 = math.radians(long2)\n",
    "    dlong = long2 - long1\n",
    "    dlat = lat2 - lat1\n",
    "    a = math.sin(dlat / 2)**2 + math.cos(lat1) * math.cos(lat2) * math.sin(dlong / 2)**2\n",
    "    c = 2 * math.atan2(math.sqrt(a), math.sqrt(1 - a))\n",
    "    return R * c\n",
    "    "
   ]
  },
  {
   "cell_type": "code",
   "execution_count": 44,
   "metadata": {},
   "outputs": [],
   "source": [
    "# Функция для вычисления длины всего маршрута\n",
    "def get_route_distance(id, df):\n",
    "    distance = 0\n",
    "    rows = df.loc[df['id'] == id]\n",
    "    for i in range(1, len(rows)):\n",
    "        distance += get_distance(rows['latitude'].iloc[i-1], rows['longitude'].iloc[i-1], rows['latitude'].iloc[i], rows['longitude'].iloc[i])\n",
    "    return distance"
   ]
  },
  {
   "cell_type": "code",
   "execution_count": 45,
   "metadata": {},
   "outputs": [],
   "source": [
    "# Функция для получения доли участков, где самолёт менял высоту\n",
    "def get_altitude_distance(id, df):\n",
    "    alt_inaccuracy = 67 # погрешность в изменении высоты, использовал таблицу:\n",
    "    # http://hist.rloc.ru/lobanov/6_13.htm\n",
    "    rows = df.loc[df['id'] == id]\n",
    "    point_amount = len(rows)\n",
    "    if point_amount <= 1:\n",
    "        return 0\n",
    "    id_distance = get_route_distance(id, df)\n",
    "    if id_distance == 0:\n",
    "        return 0\n",
    "    altitudes = rows['altitude']\n",
    "    latitudes = rows['latitude']\n",
    "    longitudes = rows['longitude']\n",
    "    alt_delta_dist = 0\n",
    "    for i in range(1, point_amount):\n",
    "        delta_alt = abs(altitudes.iloc[i] - altitudes.iloc[i-1])\n",
    "        if delta_alt <= 120:\n",
    "            alt_inaccuracy = 10\n",
    "        if delta_alt < alt_inaccuracy:\n",
    "            alt_delta_dist += get_distance(latitudes.iloc[i-1], longitudes.iloc[i-1], latitudes.iloc[i], longitudes.iloc[i])\n",
    "    return alt_delta_dist"
   ]
  },
  {
   "cell_type": "code",
   "execution_count": 46,
   "metadata": {},
   "outputs": [],
   "source": [
    "# Функция для получения доли участков, где самолёт менял направление\n",
    "def get_heading_distance(id, df):\n",
    "    heading_inaccuracy = 1 # погрешность в изменении направления\n",
    "    rows = df.loc[df['id'] == id]\n",
    "    point_amount = len(rows)\n",
    "    if point_amount <= 1:\n",
    "        return 0\n",
    "    id_distance = get_route_distance(id, df)\n",
    "    if id_distance == 0:\n",
    "        return 0\n",
    "    headings = rows['heading']\n",
    "    latitudes = rows['latitude']\n",
    "    longitudes = rows['longitude']\n",
    "    head_delta_dist = 0\n",
    "    for i in range(1, point_amount):\n",
    "        if abs(headings.iloc[i] - headings.iloc[i-1]) < heading_inaccuracy:\n",
    "            head_delta_dist += get_distance(latitudes.iloc[i-1], longitudes.iloc[i-1], latitudes.iloc[i], longitudes.iloc[i])\n",
    "    return head_delta_dist"
   ]
  },
  {
   "cell_type": "code",
   "execution_count": 47,
   "metadata": {},
   "outputs": [],
   "source": [
    "# Функция для получения доли участков, где самолёт менял высоту и направление\n",
    "def get_heading_altitude_distance(id, df):\n",
    "    rows = df.loc[df['id'] == id]\n",
    "    point_amount = len(rows)\n",
    "    if point_amount <= 1:\n",
    "        return 0\n",
    "    id_distance = get_route_distance(id, df)\n",
    "    if id_distance == 0:\n",
    "        return 0\n",
    "    altitudes = rows['altitude']\n",
    "    headings = rows['heading']\n",
    "    latitudes = rows['latitude']\n",
    "    longitudes = rows['longitude']\n",
    "    head_alt_delta_dist = 0\n",
    "    for i in range(1, point_amount):\n",
    "        if abs(headings.iloc[i] - headings.iloc[i-1]) < heading_inaccuracy \\\n",
    "            and abs(altitudes.iloc[i] - altitudes.iloc[i-1]) < alt_inaccuracy:\n",
    "            head_alt_delta_dist += get_distance(latitudes.iloc[i-1], longitudes.iloc[i-1], latitudes.iloc[i], longitudes.iloc[i])\n",
    "    return head_alt_delta_dist"
   ]
  },
  {
   "cell_type": "code",
   "execution_count": 48,
   "metadata": {},
   "outputs": [],
   "source": [
    "ids = {id: df['id'].unique() for id in df['id']}\n",
    "whole_distance = 0\n",
    "alt_change_distance = 0\n",
    "head_change_distance = 0\n",
    "head_alt_change_distance = 0\n",
    "for id in ids:\n",
    "    whole_distance += get_route_distance(id, df)\n",
    "    alt_change_distance += get_altitude_distance(id, df)\n",
    "    head_change_distance += get_heading_distance(id, df)\n",
    "    head_alt_change_distance += get_heading_altitude_distance(id, df)\n"
   ]
  },
  {
   "cell_type": "code",
   "execution_count": 49,
   "metadata": {},
   "outputs": [
    {
     "name": "stdout",
     "output_type": "stream",
     "text": [
      "Доля маршрута полёта без изменения высоты\n",
      "0.6585814239677948\n",
      "Доля маршрута полёта без поворота\n",
      "0.6816482215225852\n",
      "Доля маршрута полёта без поворота и без снижения высоты\n",
      "0.5638734739544684\n"
     ]
    }
   ],
   "source": [
    "print(\"Доля маршрута полёта без изменения высоты\")\n",
    "print(alt_change_distance/whole_distance)\n",
    "print(\"Доля маршрута полёта без поворота\")\n",
    "print(head_change_distance/whole_distance)\n",
    "print(\"Доля маршрута полёта без поворота и без снижения высоты\")\n",
    "print(head_alt_change_distance/whole_distance)\n"
   ]
  }
 ],
 "metadata": {
  "kernelspec": {
   "display_name": "Python 3",
   "language": "python",
   "name": "python3"
  },
  "language_info": {
   "codemirror_mode": {
    "name": "ipython",
    "version": 3
   },
   "file_extension": ".py",
   "mimetype": "text/x-python",
   "name": "python",
   "nbconvert_exporter": "python",
   "pygments_lexer": "ipython3",
   "version": "3.10.7"
  }
 },
 "nbformat": 4,
 "nbformat_minor": 2
}
