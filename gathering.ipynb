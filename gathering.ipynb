{
 "cells": [
  {
   "cell_type": "markdown",
   "metadata": {},
   "source": [
    "Сбор данных с помощью FlightRadarAPI"
   ]
  },
  {
   "cell_type": "code",
   "execution_count": 5,
   "metadata": {},
   "outputs": [],
   "source": [
    "import math\n",
    "import pandas as pd\n",
    "import numpy as np\n",
    "from FlightRadar24 import FlightRadar24API\n",
    "fr_api = FlightRadar24API()"
   ]
  },
  {
   "cell_type": "code",
   "execution_count": 3,
   "metadata": {},
   "outputs": [
    {
     "data": {
      "text/plain": [
       "[43.449921, 39.956581]"
      ]
     },
     "execution_count": 3,
     "metadata": {},
     "output_type": "execute_result"
    }
   ],
   "source": [
    "# Получаем координаты аэропорта Сочи\n",
    "sochi_airport = fr_api.get_airport(code=\"URSS\")\n",
    "sochi_airport_coords = [sochi_airport.latitude, sochi_airport.longitude]\n",
    "sochi_airport_coords"
   ]
  },
  {
   "cell_type": "code",
   "execution_count": 3,
   "metadata": {},
   "outputs": [],
   "source": [
    "# Функция для вычисления границ квадрата, центром которого является аэропорт Сочи\n",
    "def compute_bounds(airport):\n",
    "    arc_length = 111.3\n",
    "    down_latitude = airport.latitude - 200/arc_length\n",
    "    longitude_degree_km = arc_length * math.cos(math.radians(down_latitude))\n",
    "    right_longitude = airport.longitude + 200/longitude_degree_km\n",
    "\n",
    "    up_latitude = airport.latitude + 200/arc_length\n",
    "    longitude_degree_km = arc_length * math.cos(math.radians(up_latitude))\n",
    "    left_longitude = airport.longitude - 200/longitude_degree_km\n",
    "    bounds = f\"{up_latitude},{down_latitude},{left_longitude},{right_longitude}\"\n",
    "    return bounds"
   ]
  },
  {
   "cell_type": "code",
   "execution_count": 4,
   "metadata": {},
   "outputs": [],
   "source": [
    "# Получаем полёты, которые обрабатываются прямо сейчас в этой области\n",
    "bounds = compute_bounds(sochi_airport)\n",
    "flights = fr_api.get_flights(\n",
    "    bounds=bounds,\n",
    "    details=True\n",
    ")"
   ]
  },
  {
   "cell_type": "code",
   "execution_count": 5,
   "metadata": {},
   "outputs": [],
   "source": [
    "# От полёта нужно:\n",
    "# id, altitude, heading\n",
    "\n",
    "d = {'id': [], 'altitude': [], 'heading': []}\n",
    "\n",
    "df = pd.DataFrame(data=d)"
   ]
  },
  {
   "cell_type": "code",
   "execution_count": 6,
   "metadata": {},
   "outputs": [],
   "source": [
    "# функция получения данных полёта и записи их в датафрейм\n",
    "def update_data(fr_api, bounds, df):\n",
    "    flights = fr_api.get_flights(\n",
    "        bounds=bounds,\n",
    "        details=True\n",
    "    )\n",
    "    for i in range(len(flights)):\n",
    "        id = flights[i].id\n",
    "        altitude = flights[i].altitude\n",
    "        heading = flights[i].heading\n",
    "        df.loc[len(df.index)] = [id, altitude, heading]"
   ]
  },
  {
   "cell_type": "code",
   "execution_count": 16,
   "metadata": {},
   "outputs": [
    {
     "ename": "KeyboardInterrupt",
     "evalue": "",
     "output_type": "error",
     "traceback": [
      "\u001b[1;31m---------------------------------------------------------------------------\u001b[0m",
      "\u001b[1;31mKeyboardInterrupt\u001b[0m                         Traceback (most recent call last)",
      "\u001b[1;32mc:\\Users\\dpogo\\OneDrive\\Рабочий стол\\gossniias_task\\gathering.ipynb Cell 8\u001b[0m line \u001b[0;36m5\n\u001b[0;32m      <a href='vscode-notebook-cell:/c%3A/Users/dpogo/OneDrive/%D0%A0%D0%B0%D0%B1%D0%BE%D1%87%D0%B8%D0%B9%20%D1%81%D1%82%D0%BE%D0%BB/gossniias_task/gathering.ipynb#X10sZmlsZQ%3D%3D?line=2'>3</a>\u001b[0m \u001b[39mwhile\u001b[39;00m i \u001b[39m!=\u001b[39m \u001b[39m2\u001b[39m\u001b[39m*\u001b[39m\u001b[39m60\u001b[39m\u001b[39m*\u001b[39m\u001b[39m24\u001b[39m:\n\u001b[0;32m      <a href='vscode-notebook-cell:/c%3A/Users/dpogo/OneDrive/%D0%A0%D0%B0%D0%B1%D0%BE%D1%87%D0%B8%D0%B9%20%D1%81%D1%82%D0%BE%D0%BB/gossniias_task/gathering.ipynb#X10sZmlsZQ%3D%3D?line=3'>4</a>\u001b[0m    update_data(fr_api, bounds, df)\n\u001b[1;32m----> <a href='vscode-notebook-cell:/c%3A/Users/dpogo/OneDrive/%D0%A0%D0%B0%D0%B1%D0%BE%D1%87%D0%B8%D0%B9%20%D1%81%D1%82%D0%BE%D0%BB/gossniias_task/gathering.ipynb#X10sZmlsZQ%3D%3D?line=4'>5</a>\u001b[0m    time\u001b[39m.\u001b[39;49msleep(\u001b[39m30\u001b[39;49m)\n\u001b[0;32m      <a href='vscode-notebook-cell:/c%3A/Users/dpogo/OneDrive/%D0%A0%D0%B0%D0%B1%D0%BE%D1%87%D0%B8%D0%B9%20%D1%81%D1%82%D0%BE%D0%BB/gossniias_task/gathering.ipynb#X10sZmlsZQ%3D%3D?line=5'>6</a>\u001b[0m    i \u001b[39m+\u001b[39m\u001b[39m=\u001b[39m \u001b[39m1\u001b[39m\n\u001b[0;32m      <a href='vscode-notebook-cell:/c%3A/Users/dpogo/OneDrive/%D0%A0%D0%B0%D0%B1%D0%BE%D1%87%D0%B8%D0%B9%20%D1%81%D1%82%D0%BE%D0%BB/gossniias_task/gathering.ipynb#X10sZmlsZQ%3D%3D?line=7'>8</a>\u001b[0m df\u001b[39m.\u001b[39mhead()\n",
      "\u001b[1;31mKeyboardInterrupt\u001b[0m: "
     ]
    }
   ],
   "source": [
    "# вызываем функцию в цикле, крутим день\n",
    "# import time\n",
    "# i = 0\n",
    "# while i != 2*60*24:\n",
    "#    update_data(fr_api, bounds, df)\n",
    "#    time.sleep(30)\n",
    "#    i += 1\n",
    "\n",
    "#df.head()"
   ]
  },
  {
   "cell_type": "code",
   "execution_count": 17,
   "metadata": {},
   "outputs": [],
   "source": [
    "# преобразуем в csv файл\n",
    "#df.to_csv('data/1day_data.csv', index=False)"
   ]
  },
  {
   "cell_type": "code",
   "execution_count": 18,
   "metadata": {},
   "outputs": [
    {
     "data": {
      "text/html": [
       "<div>\n",
       "<style scoped>\n",
       "    .dataframe tbody tr th:only-of-type {\n",
       "        vertical-align: middle;\n",
       "    }\n",
       "\n",
       "    .dataframe tbody tr th {\n",
       "        vertical-align: top;\n",
       "    }\n",
       "\n",
       "    .dataframe thead th {\n",
       "        text-align: right;\n",
       "    }\n",
       "</style>\n",
       "<table border=\"1\" class=\"dataframe\">\n",
       "  <thead>\n",
       "    <tr style=\"text-align: right;\">\n",
       "      <th></th>\n",
       "      <th>id</th>\n",
       "      <th>altitude</th>\n",
       "      <th>heading</th>\n",
       "    </tr>\n",
       "  </thead>\n",
       "  <tbody>\n",
       "    <tr>\n",
       "      <th>0</th>\n",
       "      <td>3265ef91</td>\n",
       "      <td>35000</td>\n",
       "      <td>91</td>\n",
       "    </tr>\n",
       "    <tr>\n",
       "      <th>1</th>\n",
       "      <td>3265cea8</td>\n",
       "      <td>32975</td>\n",
       "      <td>92</td>\n",
       "    </tr>\n",
       "    <tr>\n",
       "      <th>2</th>\n",
       "      <td>3265ac16</td>\n",
       "      <td>37000</td>\n",
       "      <td>91</td>\n",
       "    </tr>\n",
       "    <tr>\n",
       "      <th>3</th>\n",
       "      <td>32657ea3</td>\n",
       "      <td>35000</td>\n",
       "      <td>92</td>\n",
       "    </tr>\n",
       "    <tr>\n",
       "      <th>4</th>\n",
       "      <td>32662398</td>\n",
       "      <td>22325</td>\n",
       "      <td>18</td>\n",
       "    </tr>\n",
       "    <tr>\n",
       "      <th>...</th>\n",
       "      <td>...</td>\n",
       "      <td>...</td>\n",
       "      <td>...</td>\n",
       "    </tr>\n",
       "    <tr>\n",
       "      <th>26816</th>\n",
       "      <td>32695334</td>\n",
       "      <td>37050</td>\n",
       "      <td>98</td>\n",
       "    </tr>\n",
       "    <tr>\n",
       "      <th>26817</th>\n",
       "      <td>32699897</td>\n",
       "      <td>35000</td>\n",
       "      <td>92</td>\n",
       "    </tr>\n",
       "    <tr>\n",
       "      <th>26818</th>\n",
       "      <td>32691649</td>\n",
       "      <td>18650</td>\n",
       "      <td>66</td>\n",
       "    </tr>\n",
       "    <tr>\n",
       "      <th>26819</th>\n",
       "      <td>3269593e</td>\n",
       "      <td>33025</td>\n",
       "      <td>270</td>\n",
       "    </tr>\n",
       "    <tr>\n",
       "      <th>26820</th>\n",
       "      <td>3269398e</td>\n",
       "      <td>37000</td>\n",
       "      <td>94</td>\n",
       "    </tr>\n",
       "  </tbody>\n",
       "</table>\n",
       "<p>26821 rows × 3 columns</p>\n",
       "</div>"
      ],
      "text/plain": [
       "             id  altitude  heading\n",
       "0      3265ef91     35000       91\n",
       "1      3265cea8     32975       92\n",
       "2      3265ac16     37000       91\n",
       "3      32657ea3     35000       92\n",
       "4      32662398     22325       18\n",
       "...         ...       ...      ...\n",
       "26816  32695334     37050       98\n",
       "26817  32699897     35000       92\n",
       "26818  32691649     18650       66\n",
       "26819  3269593e     33025      270\n",
       "26820  3269398e     37000       94\n",
       "\n",
       "[26821 rows x 3 columns]"
      ]
     },
     "execution_count": 18,
     "metadata": {},
     "output_type": "execute_result"
    }
   ],
   "source": [
    "# проверяем, что вышло\n",
    "df_r = pd.read_csv(\"data/1day_data.csv\")\n",
    "df_r"
   ]
  }
 ],
 "metadata": {
  "kernelspec": {
   "display_name": "Python 3",
   "language": "python",
   "name": "python3"
  },
  "language_info": {
   "codemirror_mode": {
    "name": "ipython",
    "version": 3
   },
   "file_extension": ".py",
   "mimetype": "text/x-python",
   "name": "python",
   "nbconvert_exporter": "python",
   "pygments_lexer": "ipython3",
   "version": "3.10.7"
  },
  "orig_nbformat": 4
 },
 "nbformat": 4,
 "nbformat_minor": 2
}
