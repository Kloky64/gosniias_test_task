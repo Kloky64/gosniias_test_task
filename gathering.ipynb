{
 "cells": [
  {
   "cell_type": "markdown",
   "metadata": {},
   "source": [
    "Сбор данных с помощью FlightRadarAPI"
   ]
  },
  {
   "cell_type": "code",
   "execution_count": 1,
   "metadata": {},
   "outputs": [],
   "source": [
    "import math\n",
    "import pandas as pd\n",
    "import numpy as np\n",
    "from FlightRadar24 import FlightRadar24API\n",
    "fr_api = FlightRadar24API()"
   ]
  },
  {
   "cell_type": "code",
   "execution_count": 2,
   "metadata": {},
   "outputs": [
    {
     "data": {
      "text/plain": [
       "[43.449921, 39.956581]"
      ]
     },
     "execution_count": 2,
     "metadata": {},
     "output_type": "execute_result"
    }
   ],
   "source": [
    "# Получаем координаты аэропорта Сочи\n",
    "sochi_airport = fr_api.get_airport(code=\"URSS\")\n",
    "sochi_airport_coords = [sochi_airport.latitude, sochi_airport.longitude]\n",
    "sochi_airport_coords"
   ]
  },
  {
   "cell_type": "code",
   "execution_count": 3,
   "metadata": {},
   "outputs": [],
   "source": [
    "# Функция для вычисления границ квадрата, центром которого является аэропорт Сочи\n",
    "def compute_bounds(airport):\n",
    "    arc_length = 111.3\n",
    "    down_latitude = airport.latitude - 200/arc_length\n",
    "    longitude_degree_km = arc_length * math.cos(math.radians(down_latitude))\n",
    "    right_longitude = airport.longitude + 200/longitude_degree_km\n",
    "\n",
    "    up_latitude = airport.latitude + 200/arc_length\n",
    "    longitude_degree_km = arc_length * math.cos(math.radians(up_latitude))\n",
    "    left_longitude = airport.longitude - 200/longitude_degree_km\n",
    "    bounds = f\"{up_latitude},{down_latitude},{left_longitude},{right_longitude}\"\n",
    "    return bounds"
   ]
  },
  {
   "cell_type": "code",
   "execution_count": 4,
   "metadata": {},
   "outputs": [],
   "source": [
    "# Получаем полёты, которые обрабатываются прямо сейчас в этой области\n",
    "bounds = compute_bounds(sochi_airport)\n",
    "flights = fr_api.get_flights(\n",
    "    bounds=bounds,\n",
    "    details=True\n",
    ")"
   ]
  },
  {
   "cell_type": "code",
   "execution_count": 5,
   "metadata": {},
   "outputs": [],
   "source": [
    "# От полёта нужно:\n",
    "# id, altitude, heading\n",
    "\n",
    "d = {'id': [], 'altitude': [], 'heading': [], 'latitude': [], 'longitude': []}\n",
    "\n",
    "df = pd.DataFrame(data=d)"
   ]
  },
  {
   "cell_type": "code",
   "execution_count": 6,
   "metadata": {},
   "outputs": [],
   "source": [
    "# функция получения данных полёта и записи их в датафрейм\n",
    "def update_data(fr_api, bounds, df):\n",
    "    flights = fr_api.get_flights(\n",
    "        bounds=bounds,\n",
    "        details=True\n",
    "    )\n",
    "    for i in range(len(flights)):\n",
    "        id = flights[i].id\n",
    "        altitude = flights[i].altitude\n",
    "        heading = flights[i].heading\n",
    "        latitude = flights[i].latitude\n",
    "        longitude = flights[i].longitude\n",
    "        df.loc[len(df.index)] = [id, altitude, heading, latitude, longitude]"
   ]
  },
  {
   "cell_type": "code",
   "execution_count": 22,
   "metadata": {},
   "outputs": [
    {
     "ename": "CloudflareError",
     "evalue": "An unexpected error has occurred. Perhaps you are making too many calls?",
     "output_type": "error",
     "traceback": [
      "\u001b[1;31m---------------------------------------------------------------------------\u001b[0m",
      "\u001b[1;31mCloudflareError\u001b[0m                           Traceback (most recent call last)",
      "\u001b[1;32mc:\\Users\\dpogo\\OneDrive\\Рабочий стол\\gossniias_task\\gathering.ipynb Cell 8\u001b[0m line \u001b[0;36m5\n\u001b[0;32m      <a href='vscode-notebook-cell:/c%3A/Users/dpogo/OneDrive/%D0%A0%D0%B0%D0%B1%D0%BE%D1%87%D0%B8%D0%B9%20%D1%81%D1%82%D0%BE%D0%BB/gossniias_task/gathering.ipynb#X10sZmlsZQ%3D%3D?line=2'>3</a>\u001b[0m i \u001b[39m=\u001b[39m \u001b[39m0\u001b[39m\n\u001b[0;32m      <a href='vscode-notebook-cell:/c%3A/Users/dpogo/OneDrive/%D0%A0%D0%B0%D0%B1%D0%BE%D1%87%D0%B8%D0%B9%20%D1%81%D1%82%D0%BE%D0%BB/gossniias_task/gathering.ipynb#X10sZmlsZQ%3D%3D?line=3'>4</a>\u001b[0m \u001b[39mwhile\u001b[39;00m i \u001b[39m!=\u001b[39m \u001b[39m2\u001b[39m\u001b[39m*\u001b[39m\u001b[39m60\u001b[39m\u001b[39m*\u001b[39m\u001b[39m24\u001b[39m:\n\u001b[1;32m----> <a href='vscode-notebook-cell:/c%3A/Users/dpogo/OneDrive/%D0%A0%D0%B0%D0%B1%D0%BE%D1%87%D0%B8%D0%B9%20%D1%81%D1%82%D0%BE%D0%BB/gossniias_task/gathering.ipynb#X10sZmlsZQ%3D%3D?line=4'>5</a>\u001b[0m    update_data(fr_api, bounds, df)\n\u001b[0;32m      <a href='vscode-notebook-cell:/c%3A/Users/dpogo/OneDrive/%D0%A0%D0%B0%D0%B1%D0%BE%D1%87%D0%B8%D0%B9%20%D1%81%D1%82%D0%BE%D0%BB/gossniias_task/gathering.ipynb#X10sZmlsZQ%3D%3D?line=5'>6</a>\u001b[0m    time\u001b[39m.\u001b[39msleep(\u001b[39m30\u001b[39m)\n\u001b[0;32m      <a href='vscode-notebook-cell:/c%3A/Users/dpogo/OneDrive/%D0%A0%D0%B0%D0%B1%D0%BE%D1%87%D0%B8%D0%B9%20%D1%81%D1%82%D0%BE%D0%BB/gossniias_task/gathering.ipynb#X10sZmlsZQ%3D%3D?line=6'>7</a>\u001b[0m    i \u001b[39m+\u001b[39m\u001b[39m=\u001b[39m \u001b[39m1\u001b[39m\n",
      "\u001b[1;32mc:\\Users\\dpogo\\OneDrive\\Рабочий стол\\gossniias_task\\gathering.ipynb Cell 8\u001b[0m line \u001b[0;36m3\n\u001b[0;32m      <a href='vscode-notebook-cell:/c%3A/Users/dpogo/OneDrive/%D0%A0%D0%B0%D0%B1%D0%BE%D1%87%D0%B8%D0%B9%20%D1%81%D1%82%D0%BE%D0%BB/gossniias_task/gathering.ipynb#X10sZmlsZQ%3D%3D?line=1'>2</a>\u001b[0m \u001b[39mdef\u001b[39;00m \u001b[39mupdate_data\u001b[39m(fr_api, bounds, df):\n\u001b[1;32m----> <a href='vscode-notebook-cell:/c%3A/Users/dpogo/OneDrive/%D0%A0%D0%B0%D0%B1%D0%BE%D1%87%D0%B8%D0%B9%20%D1%81%D1%82%D0%BE%D0%BB/gossniias_task/gathering.ipynb#X10sZmlsZQ%3D%3D?line=2'>3</a>\u001b[0m     flights \u001b[39m=\u001b[39m fr_api\u001b[39m.\u001b[39;49mget_flights(\n\u001b[0;32m      <a href='vscode-notebook-cell:/c%3A/Users/dpogo/OneDrive/%D0%A0%D0%B0%D0%B1%D0%BE%D1%87%D0%B8%D0%B9%20%D1%81%D1%82%D0%BE%D0%BB/gossniias_task/gathering.ipynb#X10sZmlsZQ%3D%3D?line=3'>4</a>\u001b[0m         bounds\u001b[39m=\u001b[39;49mbounds,\n\u001b[0;32m      <a href='vscode-notebook-cell:/c%3A/Users/dpogo/OneDrive/%D0%A0%D0%B0%D0%B1%D0%BE%D1%87%D0%B8%D0%B9%20%D1%81%D1%82%D0%BE%D0%BB/gossniias_task/gathering.ipynb#X10sZmlsZQ%3D%3D?line=4'>5</a>\u001b[0m         details\u001b[39m=\u001b[39;49m\u001b[39mTrue\u001b[39;49;00m\n\u001b[0;32m      <a href='vscode-notebook-cell:/c%3A/Users/dpogo/OneDrive/%D0%A0%D0%B0%D0%B1%D0%BE%D1%87%D0%B8%D0%B9%20%D1%81%D1%82%D0%BE%D0%BB/gossniias_task/gathering.ipynb#X10sZmlsZQ%3D%3D?line=5'>6</a>\u001b[0m     )\n\u001b[0;32m      <a href='vscode-notebook-cell:/c%3A/Users/dpogo/OneDrive/%D0%A0%D0%B0%D0%B1%D0%BE%D1%87%D0%B8%D0%B9%20%D1%81%D1%82%D0%BE%D0%BB/gossniias_task/gathering.ipynb#X10sZmlsZQ%3D%3D?line=6'>7</a>\u001b[0m     \u001b[39mfor\u001b[39;00m i \u001b[39min\u001b[39;00m \u001b[39mrange\u001b[39m(\u001b[39mlen\u001b[39m(flights)):\n\u001b[0;32m      <a href='vscode-notebook-cell:/c%3A/Users/dpogo/OneDrive/%D0%A0%D0%B0%D0%B1%D0%BE%D1%87%D0%B8%D0%B9%20%D1%81%D1%82%D0%BE%D0%BB/gossniias_task/gathering.ipynb#X10sZmlsZQ%3D%3D?line=7'>8</a>\u001b[0m         \u001b[39mid\u001b[39m \u001b[39m=\u001b[39m flights[i]\u001b[39m.\u001b[39mid\n",
      "File \u001b[1;32mc:\\Users\\dpogo\\AppData\\Local\\Programs\\Python\\Python310\\lib\\site-packages\\FlightRadar24\\api.py:213\u001b[0m, in \u001b[0;36mFlightRadar24API.get_flights\u001b[1;34m(self, airline, bounds, registration, aircraft_type, details)\u001b[0m\n\u001b[0;32m    211\u001b[0m     \u001b[39m# Set flight details.\u001b[39;00m\n\u001b[0;32m    212\u001b[0m     \u001b[39mif\u001b[39;00m details:\n\u001b[1;32m--> 213\u001b[0m         flight_details \u001b[39m=\u001b[39m \u001b[39mself\u001b[39;49m\u001b[39m.\u001b[39;49mget_flight_details(flight_id)\n\u001b[0;32m    214\u001b[0m         flight\u001b[39m.\u001b[39mset_flight_details(flight_details)\n\u001b[0;32m    216\u001b[0m \u001b[39mreturn\u001b[39;00m flights\n",
      "File \u001b[1;32mc:\\Users\\dpogo\\AppData\\Local\\Programs\\Python\\Python310\\lib\\site-packages\\FlightRadar24\\api.py:164\u001b[0m, in \u001b[0;36mFlightRadar24API.get_flight_details\u001b[1;34m(self, flight)\u001b[0m\n\u001b[0;32m    161\u001b[0m \u001b[39m# TODO: Only accept Flight instance at a next version.\u001b[39;00m\n\u001b[0;32m    162\u001b[0m flight_id: \u001b[39mstr\u001b[39m \u001b[39m=\u001b[39m flight \u001b[39mif\u001b[39;00m \u001b[39misinstance\u001b[39m(flight, \u001b[39mstr\u001b[39m) \u001b[39melse\u001b[39;00m flight\u001b[39m.\u001b[39mid\n\u001b[1;32m--> 164\u001b[0m response \u001b[39m=\u001b[39m APIRequest(Core\u001b[39m.\u001b[39;49mflight_data_url\u001b[39m.\u001b[39;49mformat(flight_id), headers \u001b[39m=\u001b[39;49m Core\u001b[39m.\u001b[39;49mjson_headers)\n\u001b[0;32m    165\u001b[0m \u001b[39mreturn\u001b[39;00m response\u001b[39m.\u001b[39mget_content()\n",
      "File \u001b[1;32mc:\\Users\\dpogo\\AppData\\Local\\Programs\\Python\\Python310\\lib\\site-packages\\FlightRadar24\\request.py:59\u001b[0m, in \u001b[0;36mAPIRequest.__init__\u001b[1;34m(self, url, params, headers, data, cookies, exclude_status_codes)\u001b[0m\n\u001b[0;32m     56\u001b[0m \u001b[39mself\u001b[39m\u001b[39m.\u001b[39m__response \u001b[39m=\u001b[39m request_method(url, headers \u001b[39m=\u001b[39m headers, cookies \u001b[39m=\u001b[39m cookies, data \u001b[39m=\u001b[39m data)\n\u001b[0;32m     58\u001b[0m \u001b[39mif\u001b[39;00m \u001b[39mself\u001b[39m\u001b[39m.\u001b[39mget_status_code() \u001b[39m==\u001b[39m \u001b[39m520\u001b[39m:\n\u001b[1;32m---> 59\u001b[0m     \u001b[39mraise\u001b[39;00m CloudflareError(\n\u001b[0;32m     60\u001b[0m         message \u001b[39m=\u001b[39m \u001b[39m\"\u001b[39m\u001b[39mAn unexpected error has occurred. Perhaps you are making too many calls?\u001b[39m\u001b[39m\"\u001b[39m,\n\u001b[0;32m     61\u001b[0m         response \u001b[39m=\u001b[39m \u001b[39mself\u001b[39m\u001b[39m.\u001b[39m__response\n\u001b[0;32m     62\u001b[0m     )\n\u001b[0;32m     64\u001b[0m \u001b[39mif\u001b[39;00m \u001b[39mself\u001b[39m\u001b[39m.\u001b[39mget_status_code() \u001b[39mnot\u001b[39;00m \u001b[39min\u001b[39;00m exclude_status_codes:\n\u001b[0;32m     65\u001b[0m     \u001b[39mself\u001b[39m\u001b[39m.\u001b[39m__response\u001b[39m.\u001b[39mraise_for_status()\n",
      "\u001b[1;31mCloudflareError\u001b[0m: An unexpected error has occurred. Perhaps you are making too many calls?"
     ]
    }
   ],
   "source": [
    "# вызываем функцию в цикле, крутим день\n",
    "# import time\n",
    "# i = 0\n",
    "# while i != 2*60*24:\n",
    "#    update_data(fr_api, bounds, df)\n",
    "#    time.sleep(30)\n",
    "#    i += 1\n"
   ]
  },
  {
   "cell_type": "code",
   "execution_count": 20,
   "metadata": {},
   "outputs": [],
   "source": [
    "# преобразуем в csv файл\n",
    "#df.to_csv('data/new_data.csv', index=False)"
   ]
  },
  {
   "cell_type": "code",
   "execution_count": 21,
   "metadata": {},
   "outputs": [
    {
     "data": {
      "text/html": [
       "<div>\n",
       "<style scoped>\n",
       "    .dataframe tbody tr th:only-of-type {\n",
       "        vertical-align: middle;\n",
       "    }\n",
       "\n",
       "    .dataframe tbody tr th {\n",
       "        vertical-align: top;\n",
       "    }\n",
       "\n",
       "    .dataframe thead th {\n",
       "        text-align: right;\n",
       "    }\n",
       "</style>\n",
       "<table border=\"1\" class=\"dataframe\">\n",
       "  <thead>\n",
       "    <tr style=\"text-align: right;\">\n",
       "      <th></th>\n",
       "      <th>id</th>\n",
       "      <th>altitude</th>\n",
       "      <th>heading</th>\n",
       "      <th>latitude</th>\n",
       "      <th>longitude</th>\n",
       "    </tr>\n",
       "  </thead>\n",
       "  <tbody>\n",
       "    <tr>\n",
       "      <th>0</th>\n",
       "      <td>327b1463</td>\n",
       "      <td>37975</td>\n",
       "      <td>273</td>\n",
       "      <td>41.716</td>\n",
       "      <td>37.678</td>\n",
       "    </tr>\n",
       "    <tr>\n",
       "      <th>1</th>\n",
       "      <td>327b1959</td>\n",
       "      <td>40000</td>\n",
       "      <td>272</td>\n",
       "      <td>41.687</td>\n",
       "      <td>38.369</td>\n",
       "    </tr>\n",
       "    <tr>\n",
       "      <th>2</th>\n",
       "      <td>327b0897</td>\n",
       "      <td>36000</td>\n",
       "      <td>273</td>\n",
       "      <td>41.676</td>\n",
       "      <td>38.791</td>\n",
       "    </tr>\n",
       "    <tr>\n",
       "      <th>3</th>\n",
       "      <td>327be891</td>\n",
       "      <td>0</td>\n",
       "      <td>180</td>\n",
       "      <td>43.442</td>\n",
       "      <td>39.928</td>\n",
       "    </tr>\n",
       "    <tr>\n",
       "      <th>4</th>\n",
       "      <td>327c4690</td>\n",
       "      <td>0</td>\n",
       "      <td>239</td>\n",
       "      <td>43.442</td>\n",
       "      <td>39.928</td>\n",
       "    </tr>\n",
       "    <tr>\n",
       "      <th>...</th>\n",
       "      <td>...</td>\n",
       "      <td>...</td>\n",
       "      <td>...</td>\n",
       "      <td>...</td>\n",
       "      <td>...</td>\n",
       "    </tr>\n",
       "    <tr>\n",
       "      <th>25044</th>\n",
       "      <td>327f5210</td>\n",
       "      <td>27550</td>\n",
       "      <td>269</td>\n",
       "      <td>43.682</td>\n",
       "      <td>40.615</td>\n",
       "    </tr>\n",
       "    <tr>\n",
       "      <th>25045</th>\n",
       "      <td>327f566f</td>\n",
       "      <td>35000</td>\n",
       "      <td>64</td>\n",
       "      <td>41.947</td>\n",
       "      <td>40.615</td>\n",
       "    </tr>\n",
       "    <tr>\n",
       "      <th>25046</th>\n",
       "      <td>327f63ea</td>\n",
       "      <td>33975</td>\n",
       "      <td>289</td>\n",
       "      <td>43.844</td>\n",
       "      <td>40.853</td>\n",
       "    </tr>\n",
       "    <tr>\n",
       "      <th>25047</th>\n",
       "      <td>327f503f</td>\n",
       "      <td>36000</td>\n",
       "      <td>246</td>\n",
       "      <td>43.941</td>\n",
       "      <td>40.920</td>\n",
       "    </tr>\n",
       "    <tr>\n",
       "      <th>25048</th>\n",
       "      <td>327faf36</td>\n",
       "      <td>37000</td>\n",
       "      <td>93</td>\n",
       "      <td>44.097</td>\n",
       "      <td>42.224</td>\n",
       "    </tr>\n",
       "  </tbody>\n",
       "</table>\n",
       "<p>25049 rows × 5 columns</p>\n",
       "</div>"
      ],
      "text/plain": [
       "             id  altitude  heading  latitude  longitude\n",
       "0      327b1463     37975      273    41.716     37.678\n",
       "1      327b1959     40000      272    41.687     38.369\n",
       "2      327b0897     36000      273    41.676     38.791\n",
       "3      327be891         0      180    43.442     39.928\n",
       "4      327c4690         0      239    43.442     39.928\n",
       "...         ...       ...      ...       ...        ...\n",
       "25044  327f5210     27550      269    43.682     40.615\n",
       "25045  327f566f     35000       64    41.947     40.615\n",
       "25046  327f63ea     33975      289    43.844     40.853\n",
       "25047  327f503f     36000      246    43.941     40.920\n",
       "25048  327faf36     37000       93    44.097     42.224\n",
       "\n",
       "[25049 rows x 5 columns]"
      ]
     },
     "execution_count": 21,
     "metadata": {},
     "output_type": "execute_result"
    }
   ],
   "source": [
    "# проверяем, что вышло\n",
    "df_r = pd.read_csv(\"data/new_data.csv\")\n",
    "df_r"
   ]
  }
 ],
 "metadata": {
  "kernelspec": {
   "display_name": "Python 3",
   "language": "python",
   "name": "python3"
  },
  "language_info": {
   "codemirror_mode": {
    "name": "ipython",
    "version": 3
   },
   "file_extension": ".py",
   "mimetype": "text/x-python",
   "name": "python",
   "nbconvert_exporter": "python",
   "pygments_lexer": "ipython3",
   "version": "3.10.7"
  },
  "orig_nbformat": 4
 },
 "nbformat": 4,
 "nbformat_minor": 2
}
